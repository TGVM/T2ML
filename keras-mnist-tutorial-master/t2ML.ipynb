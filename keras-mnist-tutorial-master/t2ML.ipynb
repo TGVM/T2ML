{
 "cells": [
  {
   "cell_type": "code",
   "execution_count": 19,
   "metadata": {},
   "outputs": [],
   "source": [
    "import numpy as np\n",
    "import matplotlib.pyplot as plt\n",
    "from keras.datasets import mnist\n",
    "from keras.models import Sequential\n",
    "from keras.layers.core import Dense, Dropout, Activation\n",
    "from keras.utils import np_utils\n",
    "import tkinter as tk\n",
    "from PIL import Image, ImageDraw"
   ]
  },
  {
   "cell_type": "code",
   "execution_count": 20,
   "metadata": {},
   "outputs": [],
   "source": [
    "def preprocess_input(X):\n",
    "    X = X.reshape(1, -1)\n",
    "    X = X.astype('float32')\n",
    "    X /= 255\n",
    "    return X\n"
   ]
  },
  {
   "cell_type": "code",
   "execution_count": 21,
   "metadata": {},
   "outputs": [],
   "source": [
    "# Carregar o dataset MNIST\n",
    "(X_train, y_train), (X_test, y_test) = mnist.load_data()"
   ]
  },
  {
   "cell_type": "code",
   "execution_count": 22,
   "metadata": {},
   "outputs": [],
   "source": [
    "# Pré-processamento dos dados\n",
    "X_train = X_train.reshape(60000, 784)\n",
    "X_test = X_test.reshape(10000, 784)\n",
    "X_train = X_train.astype('float32')\n",
    "X_test = X_test.astype('float32')\n",
    "X_train /= 255\n",
    "X_test /= 255"
   ]
  },
  {
   "cell_type": "code",
   "execution_count": 23,
   "metadata": {},
   "outputs": [],
   "source": [
    "nb_classes = 10\n",
    "Y_train = np_utils.to_categorical(y_train, nb_classes)\n",
    "Y_test = np_utils.to_categorical(y_test, nb_classes)"
   ]
  },
  {
   "cell_type": "code",
   "execution_count": 24,
   "metadata": {},
   "outputs": [],
   "source": [
    "# Criar o modelo\n",
    "model = Sequential()\n",
    "model.add(Dense(512, input_shape=(784,)))\n",
    "model.add(Activation('relu'))\n",
    "model.add(Dropout(0.2))\n",
    "model.add(Dense(512))\n",
    "model.add(Activation('relu'))\n",
    "model.add(Dropout(0.2))\n",
    "model.add(Dense(10))\n",
    "model.add(Activation('softmax'))\n",
    "model.compile(loss='categorical_crossentropy', optimizer='adam', metrics=['accuracy'])\n"
   ]
  },
  {
   "cell_type": "code",
   "execution_count": 25,
   "metadata": {},
   "outputs": [
    {
     "name": "stdout",
     "output_type": "stream",
     "text": [
      "Epoch 1/4\n",
      "469/469 [==============================] - 8s 16ms/step - loss: 0.2503 - accuracy: 0.9248 - val_loss: 0.0966 - val_accuracy: 0.9693\n",
      "Epoch 2/4\n",
      "469/469 [==============================] - 8s 16ms/step - loss: 0.1013 - accuracy: 0.9689 - val_loss: 0.0910 - val_accuracy: 0.9709\n",
      "Epoch 3/4\n",
      "469/469 [==============================] - 8s 16ms/step - loss: 0.0707 - accuracy: 0.9779 - val_loss: 0.0689 - val_accuracy: 0.9793\n",
      "Epoch 4/4\n",
      "469/469 [==============================] - 7s 16ms/step - loss: 0.0554 - accuracy: 0.9819 - val_loss: 0.0666 - val_accuracy: 0.9802\n"
     ]
    },
    {
     "data": {
      "text/plain": [
       "<keras.callbacks.History at 0x1ca1d29ba90>"
      ]
     },
     "execution_count": 25,
     "metadata": {},
     "output_type": "execute_result"
    }
   ],
   "source": [
    "# Treinar o modelo\n",
    "model.fit(X_train, Y_train, batch_size=128, epochs=4, verbose=1, validation_data=(X_test, Y_test))\n"
   ]
  },
  {
   "cell_type": "code",
   "execution_count": 26,
   "metadata": {},
   "outputs": [],
   "source": [
    "# Função para desenhar um número e classificá-lo\n",
    "def draw_and_classify():\n",
    "    def classify_image():\n",
    "        digit = preprocess_input(np.array(image))\n",
    "        predicted_class = model.predict_classes(digit)[0]\n",
    "        result_label.configure(text=\"Predicted: {}\".format(predicted_class))\n",
    "\n",
    "    def clear_canvas():\n",
    "        draw_area.delete(\"all\")\n",
    "        result_label.configure(text=\"\")\n",
    "\n",
    "    def on_mouse_drag(event):\n",
    "        x, y = event.x, event.y\n",
    "        radius = 8\n",
    "        draw_area.create_oval(x - radius, y - radius, x + radius, y + radius, fill=\"black\")\n",
    "\n",
    "    root = tk.Tk()\n",
    "    root.title(\"Draw and Classify\")\n",
    "    \n",
    "    draw_area = tk.Canvas(root, width=280, height=280, bg=\"white\")\n",
    "    draw_area.pack(pady=10)\n",
    "\n",
    "    image = Image.new(\"L\", (280, 280), \"white\")\n",
    "    draw = ImageDraw.Draw(image)\n",
    "\n",
    "    draw_area.bind(\"<B1-Motion>\", on_mouse_drag)\n",
    "\n",
    "    classify_button = tk.Button(root, text=\"Classify\", command=classify_image)\n",
    "    classify_button.pack(pady=5)\n",
    "\n",
    "    clear_button = tk.Button(root, text=\"Clear\", command=clear_canvas)\n",
    "    clear_button.pack(pady=5)\n",
    "\n",
    "    result_label = tk.Label(root, text=\"\")\n",
    "    result_label.pack(pady=10)\n",
    "\n",
    "    root.mainloop()"
   ]
  },
  {
   "cell_type": "code",
   "execution_count": 27,
   "metadata": {},
   "outputs": [
    {
     "name": "stderr",
     "output_type": "stream",
     "text": [
      "Exception in Tkinter callback\n",
      "Traceback (most recent call last):\n",
      "  File \"c:\\Users\\tgvm1\\AppData\\Local\\Programs\\Python\\Python311\\Lib\\tkinter\\__init__.py\", line 1948, in __call__\n",
      "    return self.func(*args)\n",
      "           ^^^^^^^^^^^^^^^^\n",
      "  File \"C:\\Users\\tgvm1\\AppData\\Local\\Temp\\ipykernel_16428\\3909703123.py\", line 4, in classify_image\n",
      "    digit = preprocess_input(np.array(image))\n",
      "            ^^^^^^^^^^^^^^^^^^^^^^^^^^^^^^^^^\n",
      "  File \"C:\\Users\\tgvm1\\AppData\\Local\\Temp\\ipykernel_16428\\3314421457.py\", line 2, in preprocess_input\n",
      "    X = X.reshape(1, 784)\n",
      "        ^^^^^^^^^^^^^^^^^\n",
      "ValueError: cannot reshape array of size 78400 into shape (1,784)\n"
     ]
    }
   ],
   "source": [
    "# Executar a função de desenho e classificação\n",
    "draw_and_classify()"
   ]
  }
 ],
 "metadata": {
  "kernelspec": {
   "display_name": "Python 3",
   "language": "python",
   "name": "python3"
  },
  "language_info": {
   "codemirror_mode": {
    "name": "ipython",
    "version": 3
   },
   "file_extension": ".py",
   "mimetype": "text/x-python",
   "name": "python",
   "nbconvert_exporter": "python",
   "pygments_lexer": "ipython3",
   "version": "3.11.4"
  },
  "orig_nbformat": 4
 },
 "nbformat": 4,
 "nbformat_minor": 2
}
