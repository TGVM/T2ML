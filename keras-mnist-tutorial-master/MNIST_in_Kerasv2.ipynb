{
 "cells": [
  {
   "cell_type": "code",
   "execution_count": null,
   "metadata": {},
   "outputs": [],
   "source": [
    "%matplotlib inline"
   ]
  },
  {
   "cell_type": "code",
   "execution_count": null,
   "metadata": {},
   "outputs": [],
   "source": [
    "import numpy as np\n",
    "import matplotlib.pyplot as plt\n",
    "#import keras as keras\n",
    "plt.rcParams['figure.figsize'] = (7,7) # Make the figures a bit bigger\n",
    "\n",
    "from keras.datasets import mnist\n",
    "from keras.models import Sequential\n",
    "from keras.layers.core import Dense, Dropout, Activation\n",
    "from keras.utils import np_utils"
   ]
  },
  {
   "attachments": {},
   "cell_type": "markdown",
   "metadata": {},
   "source": [
    "## Load training data"
   ]
  },
  {
   "cell_type": "code",
   "execution_count": null,
   "metadata": {},
   "outputs": [],
   "source": [
    "nb_classes = 10\n",
    "\n",
    "# the data, shuffled and split between tran and test sets\n",
    "(X_train, y_train), (X_test, y_test) = mnist.load_data()\n",
    "print(\"X_train original shape\", X_train.shape)\n",
    "print(\"y_train original shape\", y_train.shape)"
   ]
  },
  {
   "attachments": {},
   "cell_type": "markdown",
   "metadata": {},
   "source": [
    "Let's look at some examples of the training data"
   ]
  },
  {
   "cell_type": "code",
   "execution_count": null,
   "metadata": {},
   "outputs": [],
   "source": [
    "for i in range(9):\n",
    "    plt.subplot(3,3,i+1)\n",
    "    plt.imshow(X_train[i], cmap='gray', interpolation='none')\n",
    "    plt.title(\"Class {}\".format(y_train[i]))"
   ]
  },
  {
   "cell_type": "code",
   "execution_count": null,
   "metadata": {},
   "outputs": [],
   "source": [
    "X_train = X_train.reshape(60000, 784)\n",
    "X_test = X_test.reshape(10000, 784)\n",
    "X_train = X_train.astype('float32')\n",
    "X_test = X_test.astype('float32')\n",
    "X_train /= 255\n",
    "X_test /= 255\n",
    "print(\"Training matrix shape\", X_train.shape)\n",
    "print(\"Testing matrix shape\", X_test.shape)"
   ]
  },
  {
   "cell_type": "code",
   "execution_count": null,
   "metadata": {},
   "outputs": [],
   "source": [
    "Y_train = np_utils.to_categorical(y_train, nb_classes)\n",
    "Y_test = np_utils.to_categorical(y_test, nb_classes)"
   ]
  },
  {
   "cell_type": "code",
   "execution_count": null,
   "metadata": {},
   "outputs": [],
   "source": [
    "model = Sequential()\n",
    "model.add(Dense(512, input_shape=(784,)))\n",
    "model.add(Activation('relu')) # An \"activation\" is just a non-linear function applied to the output\n",
    "                              # of the layer above. Here, with a \"rectified linear unit\",\n",
    "                              # we clamp all values below 0 to 0.\n",
    "                           \n",
    "model.add(Dropout(0.2))   # Dropout helps protect the model from memorizing or \"overfitting\" the training data\n",
    "model.add(Dense(512))\n",
    "model.add(Activation('relu'))\n",
    "model.add(Dropout(0.2))\n",
    "model.add(Dense(10))\n",
    "model.add(Activation('softmax')) # This special \"softmax\" activation among other things,\n",
    "                                 # ensures the output is a valid probaility distribution, that is\n",
    "                                 # that its values are all non-negative and sum to 1."
   ]
  },
  {
   "cell_type": "code",
   "execution_count": null,
   "metadata": {},
   "outputs": [],
   "source": [
    "model.compile(loss='categorical_crossentropy', optimizer='adam', metrics=['accuracy'])"
   ]
  },
  {
   "cell_type": "code",
   "execution_count": null,
   "metadata": {},
   "outputs": [],
   "source": [
    "model.fit(X_train, Y_train,\n",
    "          batch_size=128, \n",
    "          epochs=4,\n",
    "          #show_accuracy=True, \n",
    "          verbose=1,\n",
    "          validation_data=(X_test, Y_test)\n",
    "          )"
   ]
  },
  {
   "attachments": {},
   "cell_type": "markdown",
   "metadata": {},
   "source": [
    "## Finally, evaluate its performance"
   ]
  },
  {
   "cell_type": "code",
   "execution_count": null,
   "metadata": {},
   "outputs": [],
   "source": [
    "score = model.evaluate(X_test, Y_test,\n",
    "                       #show_accuracy=True, \n",
    "                       verbose=0)\n",
    "print(score)\n",
    "print('Test score:', score[0])\n",
    "print('Test accuracy:', score[1])"
   ]
  },
  {
   "cell_type": "code",
   "execution_count": null,
   "metadata": {},
   "outputs": [],
   "source": [
    "# The predict_classes function outputs the highest probability class\n",
    "# according to the trained classifier for each input example.\n",
    "#predicted_classes = model.predict_classes(X_test)\n",
    "predict_x=model.predict(X_test) \n",
    "classes_x=np.argmax(predict_x,axis=1)\n",
    "\n",
    "\n",
    "# Check which items we got right / wrong\n",
    "correct_indices = np.nonzero(classes_x == y_test)[0]\n",
    "incorrect_indices = np.nonzero(classes_x != y_test)[0]"
   ]
  },
  {
   "cell_type": "code",
   "execution_count": null,
   "metadata": {},
   "outputs": [],
   "source": [
    "plt.figure()\n",
    "for i, correct in enumerate(correct_indices[:9]):\n",
    "    plt.subplot(3,3,i+1)\n",
    "    plt.imshow(X_test[correct].reshape(28,28), cmap='gray', interpolation='none')\n",
    "    plt.title(\"Predicted {}, Class {}\".format(classes_x[correct], y_test[correct]))\n",
    "    \n",
    "plt.figure()\n",
    "for i, incorrect in enumerate(incorrect_indices[:9]):\n",
    "    plt.subplot(3,3,i+1)\n",
    "    plt.imshow(X_test[incorrect].reshape(28,28), cmap='gray', interpolation='none')\n",
    "    plt.title(\"Predicted {}, Class {}\".format(classes_x[incorrect], y_test[incorrect]))"
   ]
  },
  {
   "cell_type": "code",
   "execution_count": null,
   "metadata": {
    "scrolled": true
   },
   "outputs": [],
   "source": [
    "import cv2\n",
    "from PIL import Image, ImageDraw\n",
    "import numpy as np\n",
    "\n",
    "# Função para preprocessar a imagem usando a biblioteca Pillow\n",
    "def preprocess_image(window):\n",
    "    # Converte a imagem para escala de cinza\n",
    "    gray = window.convert('L')\n",
    "    # Redimensiona a imagem para 28x28 pixels\n",
    "    resized = gray.resize((28, 28))\n",
    "    # Converte a imagem para um array numpy\n",
    "    image_array = np.array(resized)\n",
    "    # Inverte a cor da imagem (pixels brancos para pretos e vice-versa)\n",
    "    inverted = np.invert(image_array)\n",
    "    # Normaliza os valores dos pixels para o intervalo [0, 1]\n",
    "    normalized = inverted / 255.0\n",
    "    # Redimensiona a imagem para a entrada do modelo (1, 784)\n",
    "    flattened = normalized.reshape(1, 784)\n",
    "    return flattened\n",
    "\n",
    "# Função para exibir a previsão da rede neural\n",
    "def display_prediction(prediction):\n",
    "    label = np.argmax(prediction)\n",
    "    confidence = np.max(prediction) * 100\n",
    "    print(f\"Prediction: {label}\\nConfidence: {confidence:.2f}%\")\n",
    "\n",
    "# Código principal\n",
    "\n",
    "# Crie uma nova janela usando o OpenCV\n",
    "window = np.ones((280, 280), dtype=np.uint8) * 255\n",
    "cv2.namedWindow('Draw a Digit')\n",
    "\n",
    "# Variáveis para controle do desenho\n",
    "drawing = False\n",
    "last_point = (0, 0)\n",
    "\n",
    "# Callback de eventos do mouse para desenhar na janela\n",
    "def mouse_callback(event, x, y, flags, param):\n",
    "    global drawing, last_point\n",
    "    if event == cv2.EVENT_LBUTTONDOWN:\n",
    "        drawing = True\n",
    "        last_point = (x, y)\n",
    "    elif event == cv2.EVENT_LBUTTONUP:\n",
    "        drawing = False\n",
    "    elif event == cv2.EVENT_MOUSEMOVE:\n",
    "        if drawing:\n",
    "            cv2.line(window, last_point, (x, y), color=0, thickness=20)\n",
    "            last_point = (x, y)\n",
    "\n",
    "# Registre o callback de eventos do mouse\n",
    "cv2.setMouseCallback('Draw a Digit', mouse_callback)\n",
    "\n",
    "# Loop principal\n",
    "while True:\n",
    "    # Exiba a janela\n",
    "    cv2.imshow('Draw a Digit', window)\n",
    "\n",
    "    # Verifique os eventos do teclado\n",
    "    key = cv2.waitKey(1)\n",
    "    if key == ord('q'):\n",
    "        break\n",
    "    elif key == ord('r'):\n",
    "        window = np.ones((280, 280), dtype=np.uint8) * 255\n",
    "    elif key == ord('c'):\n",
    "        image = preprocess_image(Image.fromarray(window))\n",
    "        prediction = model.predict(image)\n",
    "        display_prediction(prediction)\n",
    "        cv2.imshow('Draw a Digit', np.array(window))\n",
    "\n",
    "# Feche a janela quando o loop terminar\n",
    "cv2.destroyAllWindows()\n"
   ]
  }
 ],
 "metadata": {
  "kernelspec": {
   "display_name": "Python 3 (ipykernel)",
   "language": "python",
   "name": "python3"
  },
  "language_info": {
   "codemirror_mode": {
    "name": "ipython",
    "version": 3
   },
   "file_extension": ".py",
   "mimetype": "text/x-python",
   "name": "python",
   "nbconvert_exporter": "python",
   "pygments_lexer": "ipython3",
   "version": "3.11.1"
  }
 },
 "nbformat": 4,
 "nbformat_minor": 1
}
